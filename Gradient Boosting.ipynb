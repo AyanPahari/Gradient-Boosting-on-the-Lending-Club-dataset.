{
 "cells": [
  {
   "cell_type": "markdown",
   "id": "68e780cb",
   "metadata": {},
   "source": [
    "# 5. (a) Preprocessing the Data"
   ]
  },
  {
   "cell_type": "markdown",
   "id": "83cbe3e4",
   "metadata": {},
   "source": [
    "### Importing the libraries"
   ]
  },
  {
   "cell_type": "code",
   "execution_count": 1,
   "id": "ff8b3a40",
   "metadata": {},
   "outputs": [],
   "source": [
    "#importing the required libraries\n",
    "import numpy as np\n",
    "import pandas as pd\n",
    "import matplotlib.pyplot as plt\n",
    "import seaborn as sns\n",
    "import time\n",
    "from datetime import datetime\n",
    "from sklearn.preprocessing import LabelEncoder\n",
    "from sklearn.tree import DecisionTreeClassifier\n",
    "from sklearn.ensemble import RandomForestClassifier,GradientBoostingClassifier\n",
    "from sklearn.metrics import plot_confusion_matrix,classification_report,accuracy_score"
   ]
  },
  {
   "cell_type": "markdown",
   "id": "ac2c9189",
   "metadata": {},
   "source": [
    "### Loading the train and test data"
   ]
  },
  {
   "cell_type": "code",
   "execution_count": 2,
   "id": "04068d53",
   "metadata": {},
   "outputs": [],
   "source": [
    "#loading the training and testing data\n",
    "train = pd.read_csv('loan_train.csv')\n",
    "test = pd.read_csv('loan_test.csv')"
   ]
  },
  {
   "cell_type": "markdown",
   "id": "700cd872",
   "metadata": {},
   "source": [
    "### Checking for null values"
   ]
  },
  {
   "cell_type": "code",
   "execution_count": 3,
   "id": "55b4d18b",
   "metadata": {},
   "outputs": [
    {
     "data": {
      "text/plain": [
       "51.26763629103722"
      ]
     },
     "execution_count": 3,
     "metadata": {},
     "output_type": "execute_result"
    }
   ],
   "source": [
    "#checking the total % of null values in the training data\n",
    "(train.isnull().sum().sum())/(train.shape[0]*train.shape[1])*100"
   ]
  },
  {
   "cell_type": "code",
   "execution_count": 4,
   "id": "09af7457",
   "metadata": {},
   "outputs": [
    {
     "data": {
      "text/plain": [
       "51.46263262855191"
      ]
     },
     "execution_count": 4,
     "metadata": {},
     "output_type": "execute_result"
    }
   ],
   "source": [
    "#checking the total % of null values in the testing data\n",
    "(test.isnull().sum().sum())/(test.shape[0]*test.shape[1])*100"
   ]
  },
  {
   "cell_type": "code",
   "execution_count": 5,
   "id": "47abcacb",
   "metadata": {},
   "outputs": [],
   "source": [
    "#51.26% of the training data and 51.46% of the test data are null values, so have to effectively process the null values"
   ]
  },
  {
   "cell_type": "code",
   "execution_count": 6,
   "id": "d5fae25a",
   "metadata": {},
   "outputs": [
    {
     "data": {
      "text/plain": [
       "id                                0\n",
       "member_id                         0\n",
       "loan_amnt                         0\n",
       "funded_amnt                       0\n",
       "funded_amnt_inv                   0\n",
       "                              ...  \n",
       "tax_liens                        17\n",
       "tot_hi_cred_lim               24999\n",
       "total_bal_ex_mort             24999\n",
       "total_bc_limit                24999\n",
       "total_il_high_credit_limit    24999\n",
       "Length: 111, dtype: int64"
      ]
     },
     "execution_count": 6,
     "metadata": {},
     "output_type": "execute_result"
    }
   ],
   "source": [
    "#count of null values in each column\n",
    "train.isnull().sum()"
   ]
  },
  {
   "cell_type": "code",
   "execution_count": 7,
   "id": "19ea65cb",
   "metadata": {},
   "outputs": [
    {
     "data": {
      "text/plain": [
       "67"
      ]
     },
     "execution_count": 7,
     "metadata": {},
     "output_type": "execute_result"
    }
   ],
   "source": [
    "#total number of columns containing some null values\n",
    "train.isnull().any().sum()"
   ]
  },
  {
   "cell_type": "code",
   "execution_count": 8,
   "id": "1b913c1b",
   "metadata": {},
   "outputs": [],
   "source": [
    "#Only considering those columns which are having less than 20% of its data as null and dropping the rest of the columns\n",
    "train = train[train.columns[(train.isnull().sum())/len(train) < 0.2]]\n",
    "test = test[test.columns[(test.isnull().sum())/len(test) < 0.2]]"
   ]
  },
  {
   "cell_type": "code",
   "execution_count": 9,
   "id": "469601d0",
   "metadata": {},
   "outputs": [
    {
     "data": {
      "text/plain": [
       "(24999, 53)"
      ]
     },
     "execution_count": 9,
     "metadata": {},
     "output_type": "execute_result"
    }
   ],
   "source": [
    "train.shape"
   ]
  },
  {
   "cell_type": "code",
   "execution_count": 10,
   "id": "48b92ac8",
   "metadata": {},
   "outputs": [
    {
     "data": {
      "text/plain": [
       "(14718, 53)"
      ]
     },
     "execution_count": 10,
     "metadata": {},
     "output_type": "execute_result"
    }
   ],
   "source": [
    "test.shape"
   ]
  },
  {
   "cell_type": "code",
   "execution_count": 11,
   "id": "4aa9661a",
   "metadata": {},
   "outputs": [],
   "source": [
    "#Now we are effectively left with 53 columns in both train and test data"
   ]
  },
  {
   "cell_type": "markdown",
   "id": "9f4516cf",
   "metadata": {},
   "source": [
    "### Dropping un-necessary features from the train and test dataset"
   ]
  },
  {
   "cell_type": "code",
   "execution_count": 12,
   "id": "61173587",
   "metadata": {},
   "outputs": [],
   "source": [
    "#dropping some unnecessary columns which doesn't really add any value to our observation\n",
    "train = train.drop(['emp_title','pymnt_plan','title', 'zip_code', 'addr_state', 'initial_list_status',\n",
    "                    'application_type'],axis=1)\n",
    "test = test.drop(['emp_title','pymnt_plan','title', 'zip_code', 'addr_state', 'initial_list_status',\n",
    "                  'application_type'],axis=1)"
   ]
  },
  {
   "cell_type": "code",
   "execution_count": 13,
   "id": "de063d56",
   "metadata": {},
   "outputs": [
    {
     "data": {
      "text/plain": [
       "(24999, 46)"
      ]
     },
     "execution_count": 13,
     "metadata": {},
     "output_type": "execute_result"
    }
   ],
   "source": [
    "train.shape"
   ]
  },
  {
   "cell_type": "code",
   "execution_count": 14,
   "id": "2dff7f1c",
   "metadata": {},
   "outputs": [
    {
     "data": {
      "text/plain": [
       "(14718, 46)"
      ]
     },
     "execution_count": 14,
     "metadata": {},
     "output_type": "execute_result"
    }
   ],
   "source": [
    "test.shape"
   ]
  },
  {
   "cell_type": "code",
   "execution_count": 15,
   "id": "3dc97b61",
   "metadata": {},
   "outputs": [],
   "source": [
    "#dropping some unnecessary numerical columns\n",
    "train = train.drop(['acc_now_delinq','chargeoff_within_12_mths','collection_recovery_fee',\n",
    "                    'collections_12_mths_ex_med','delinq_amnt','policy_code','tax_liens'],axis=1)\n",
    "test = test.drop(['acc_now_delinq','chargeoff_within_12_mths','collection_recovery_fee',\n",
    "                  'collections_12_mths_ex_med','delinq_amnt','policy_code','tax_liens'],axis=1)"
   ]
  },
  {
   "cell_type": "code",
   "execution_count": 16,
   "id": "d17fa48f",
   "metadata": {},
   "outputs": [
    {
     "data": {
      "text/plain": [
       "(24999, 39)"
      ]
     },
     "execution_count": 16,
     "metadata": {},
     "output_type": "execute_result"
    }
   ],
   "source": [
    "train.shape"
   ]
  },
  {
   "cell_type": "code",
   "execution_count": 17,
   "id": "9f42aacf",
   "metadata": {},
   "outputs": [
    {
     "data": {
      "text/plain": [
       "(14718, 39)"
      ]
     },
     "execution_count": 17,
     "metadata": {},
     "output_type": "execute_result"
    }
   ],
   "source": [
    "test.shape"
   ]
  },
  {
   "cell_type": "markdown",
   "id": "d238fea4",
   "metadata": {},
   "source": [
    "### Categorical features into binary features"
   ]
  },
  {
   "cell_type": "code",
   "execution_count": 18,
   "id": "1550d0d7",
   "metadata": {},
   "outputs": [],
   "source": [
    "#now we have to convert some of the categorical features into binary features\n",
    "#we can achieve this either by one hot encoding or label encoding depending upon the type of data"
   ]
  },
  {
   "cell_type": "code",
   "execution_count": 19,
   "id": "e0833ffe",
   "metadata": {},
   "outputs": [],
   "source": [
    "# One hot encoding on categorical columns\n",
    "train = pd.get_dummies(train,columns = ['home_ownership','verification_status','purpose'],drop_first = True)\n",
    "test = pd.get_dummies(test,columns = ['home_ownership','verification_status','purpose'],drop_first = True)"
   ]
  },
  {
   "cell_type": "code",
   "execution_count": 20,
   "id": "006fd1db",
   "metadata": {},
   "outputs": [],
   "source": [
    "Lab_enc = LabelEncoder()"
   ]
  },
  {
   "cell_type": "code",
   "execution_count": 21,
   "id": "31b8afeb",
   "metadata": {},
   "outputs": [],
   "source": [
    "#converting the ordinal columns into label encoded columns\n",
    "#encoding for the train set\n",
    "Lab_enc.fit(train['grade'])\n",
    "train['grade'] = Lab_enc.transform(train['grade'])\n",
    "Lab_enc.fit(train['sub_grade'])\n",
    "train['sub_grade'] = Lab_enc.transform(train['sub_grade'])\n",
    "\n",
    "#encoding for the test set\n",
    "Lab_enc.fit(test['grade'])\n",
    "test['grade'] = Lab_enc.transform(test['grade'])\n",
    "Lab_enc.fit(test['sub_grade'])\n",
    "test['sub_grade'] = Lab_enc.transform(test['sub_grade'])"
   ]
  },
  {
   "cell_type": "code",
   "execution_count": 22,
   "id": "5282efec",
   "metadata": {},
   "outputs": [],
   "source": [
    "#now we have to convert the date time columns into numerical columns"
   ]
  },
  {
   "cell_type": "code",
   "execution_count": 23,
   "id": "d0cf52cc",
   "metadata": {},
   "outputs": [
    {
     "data": {
      "text/plain": [
       "0        11-Mar\n",
       "1        10-Mar\n",
       "2        11-Dec\n",
       "3        16-May\n",
       "4        15-Sep\n",
       "          ...  \n",
       "24994    12-May\n",
       "24995    14-Jul\n",
       "24996    13-Jan\n",
       "24997    11-Oct\n",
       "24998    14-Feb\n",
       "Name: last_pymnt_d, Length: 24999, dtype: object"
      ]
     },
     "execution_count": 23,
     "metadata": {},
     "output_type": "execute_result"
    }
   ],
   "source": [
    "train['last_pymnt_d']"
   ]
  },
  {
   "cell_type": "code",
   "execution_count": 24,
   "id": "39ede36a",
   "metadata": {},
   "outputs": [],
   "source": [
    "#these columns were having nan values beforehand, so have to drop those rows first\n",
    "train.dropna(subset=['last_pymnt_d'], inplace=True)\n",
    "test.dropna(subset=['last_pymnt_d'], inplace=True)\n",
    "test.dropna(subset=['last_credit_pull_d'], inplace=True)"
   ]
  },
  {
   "cell_type": "code",
   "execution_count": 25,
   "id": "29c7b08a",
   "metadata": {},
   "outputs": [],
   "source": [
    "# first we have to Convert objects to datetime columns\n",
    "\n",
    "def get_month(data):\n",
    "    y, m = data.split('-')\n",
    "    return datetime.strptime(str(2000 + int(y))+'-'+m+'-1', '%Y-%b-%d').month\n",
    "\n",
    "def get_year(data):\n",
    "    y, m = data.split('-')\n",
    "    return datetime.strptime(str(2000 + int(y))+'-'+m+'-1', '%Y-%b-%d').year"
   ]
  },
  {
   "cell_type": "code",
   "execution_count": 26,
   "id": "fcdc1c4f",
   "metadata": {},
   "outputs": [],
   "source": [
    "#further dividing the issue_d , last_pymt_d and last_credit_pull_d into months and year for the train set\n",
    "\n",
    "\n",
    "train['issue_d_year'] = train['issue_d'].apply(get_year)  \n",
    "train['issue_d_month'] = train['issue_d'].apply(get_month)  \n",
    "train['last_pymnt_d_year'] = train['last_pymnt_d'].apply(get_year)  \n",
    "train['last_pymnt_d_month'] = train['last_pymnt_d'].apply(get_month) \n",
    "train['last_credit_pull_d_year'] = train['last_credit_pull_d'].apply(get_year)  \n",
    "train['last_credit_pull_d_month'] = train['last_credit_pull_d'].apply(get_month)\n",
    "\n",
    "#further dividing the issue_d , last_pymt_d and last_credit_pull_d into months and year for the test set\n",
    "\n",
    "\n",
    "test['issue_d_year'] = test['issue_d'].apply(get_year)  \n",
    "test['issue_d_month'] = test['issue_d'].apply(get_month)  \n",
    "test['last_pymnt_d_year'] = test['last_pymnt_d'].apply(get_year)  \n",
    "test['last_pymnt_d_month'] = test['last_pymnt_d'].apply(get_month) \n",
    "test['last_credit_pull_d_year'] = test['last_credit_pull_d'].apply(get_year)  \n",
    "test['last_credit_pull_d_month'] = test['last_credit_pull_d'].apply(get_month)"
   ]
  },
  {
   "cell_type": "code",
   "execution_count": 27,
   "id": "b8f53842",
   "metadata": {},
   "outputs": [],
   "source": [
    "#func to strip term and int_term columns\n",
    "def strip_col(data):\n",
    "    return data[:3]"
   ]
  },
  {
   "cell_type": "code",
   "execution_count": 28,
   "id": "72ec5434",
   "metadata": {},
   "outputs": [],
   "source": [
    "# Converting term and int_rate to float types\n",
    "train['term'] = train['term'].apply(strip_col)\n",
    "train['term'] = train['term'].astype('float')\n",
    "train['int_rate'] = train['int_rate'].apply(strip_col)\n",
    "train['int_rate'] = train['int_rate'].astype('float')"
   ]
  },
  {
   "cell_type": "code",
   "execution_count": 29,
   "id": "2e5cbc60",
   "metadata": {},
   "outputs": [],
   "source": [
    "# Converting term and int_rate to numerical columns\n",
    "test['term'] = test['term'].apply(strip_col)\n",
    "test['term'] = test['term'].astype('float')\n",
    "test['int_rate'] = test['int_rate'].apply(strip_col)\n",
    "test['int_rate'] = test['int_rate'].astype('float')"
   ]
  },
  {
   "cell_type": "code",
   "execution_count": 30,
   "id": "c96b4045",
   "metadata": {},
   "outputs": [
    {
     "data": {
      "image/png": "[encoded data removed]",
      "text/plain": [
       "<Figure size 800x600 with 2 Axes>"
      ]
     },
     "metadata": {
      "needs_background": "light"
     },
     "output_type": "display_data"
    }
   ],
   "source": [
    "# Checking correlation using heatmap\n",
    "plt.figure(figsize=(8,6),dpi=100)\n",
    "sns.heatmap(train.corr())\n",
    "plt.show()"
   ]
  },
  {
   "cell_type": "code",
   "execution_count": 31,
   "id": "70a4d483",
   "metadata": {},
   "outputs": [
    {
     "data": {
      "text/plain": [
       "(24954, 60)"
      ]
     },
     "execution_count": 31,
     "metadata": {},
     "output_type": "execute_result"
    }
   ],
   "source": [
    "train.shape"
   ]
  },
  {
   "cell_type": "code",
   "execution_count": 32,
   "id": "ff4a5417",
   "metadata": {},
   "outputs": [
    {
     "data": {
      "text/plain": [
       "(14690, 61)"
      ]
     },
     "execution_count": 32,
     "metadata": {},
     "output_type": "execute_result"
    }
   ],
   "source": [
    "test.shape"
   ]
  },
  {
   "cell_type": "code",
   "execution_count": 33,
   "id": "ad416954",
   "metadata": {},
   "outputs": [],
   "source": [
    "#dropping some more unnecessary features\n",
    "train.drop(['issue_d','last_pymnt_d','last_credit_pull_d','earliest_cr_line','url'],axis=1,inplace=True)\n",
    "test.drop(['home_ownership_NONE','issue_d','last_pymnt_d','last_credit_pull_d',\n",
    "           'earliest_cr_line','url'],axis=1,inplace=True)"
   ]
  },
  {
   "cell_type": "code",
   "execution_count": 34,
   "id": "932c71d7",
   "metadata": {},
   "outputs": [],
   "source": [
    "# Remove % symbol from revol_util column\n",
    "train['revol_util'] = train['revol_util'].str.rstrip('%')\n",
    "train['revol_util'] = train['revol_util'].astype(float)\n",
    "\n",
    "test['revol_util'] = test['revol_util'].str.rstrip('%')\n",
    "test['revol_util'] = test['revol_util'].astype(float)"
   ]
  },
  {
   "cell_type": "code",
   "execution_count": 35,
   "id": "bd82d0c9",
   "metadata": {},
   "outputs": [
    {
     "data": {
      "text/plain": [
       "id                                       0\n",
       "member_id                                0\n",
       "loan_amnt                                0\n",
       "funded_amnt                              0\n",
       "funded_amnt_inv                          0\n",
       "term                                     0\n",
       "int_rate                                 0\n",
       "installment                              0\n",
       "grade                                    0\n",
       "sub_grade                                0\n",
       "emp_length                              41\n",
       "annual_inc                               0\n",
       "loan_status                              0\n",
       "dti                                      0\n",
       "delinq_2yrs                              0\n",
       "inq_last_6mths                           0\n",
       "open_acc                                 0\n",
       "pub_rec                                  0\n",
       "revol_bal                                0\n",
       "revol_util                              26\n",
       "total_acc                                0\n",
       "out_prncp                                0\n",
       "out_prncp_inv                            0\n",
       "total_pymnt                              0\n",
       "total_pymnt_inv                          0\n",
       "total_rec_prncp                          0\n",
       "total_rec_int                            0\n",
       "total_rec_late_fee                       0\n",
       "recoveries                               0\n",
       "last_pymnt_amnt                          0\n",
       "pub_rec_bankruptcies                   417\n",
       "home_ownership_OTHER                     0\n",
       "home_ownership_OWN                       0\n",
       "home_ownership_RENT                      0\n",
       "verification_status_Source Verified      0\n",
       "verification_status_Verified             0\n",
       "purpose_credit_card                      0\n",
       "purpose_debt_consolidation               0\n",
       "purpose_educational                      0\n",
       "purpose_home_improvement                 0\n",
       "purpose_house                            0\n",
       "purpose_major_purchase                   0\n",
       "purpose_medical                          0\n",
       "purpose_moving                           0\n",
       "purpose_other                            0\n",
       "purpose_renewable_energy                 0\n",
       "purpose_small_business                   0\n",
       "purpose_vacation                         0\n",
       "purpose_wedding                          0\n",
       "issue_d_year                             0\n",
       "issue_d_month                            0\n",
       "last_pymnt_d_year                        0\n",
       "last_pymnt_d_month                       0\n",
       "last_credit_pull_d_year                  0\n",
       "last_credit_pull_d_month                 0\n",
       "dtype: int64"
      ]
     },
     "execution_count": 35,
     "metadata": {},
     "output_type": "execute_result"
    }
   ],
   "source": [
    "#checking for remaining null values\n",
    "train.isnull().sum()"
   ]
  },
  {
   "cell_type": "code",
   "execution_count": 36,
   "id": "1100984e",
   "metadata": {},
   "outputs": [
    {
     "data": {
      "text/plain": [
       "0        10+ years\n",
       "1           1 year\n",
       "2          4 years\n",
       "3        10+ years\n",
       "4          5 years\n",
       "           ...    \n",
       "24994      7 years\n",
       "24995      7 years\n",
       "24996    10+ years\n",
       "24997    10+ years\n",
       "24998     < 1 year\n",
       "Name: emp_length, Length: 24954, dtype: object"
      ]
     },
     "execution_count": 36,
     "metadata": {},
     "output_type": "execute_result"
    }
   ],
   "source": [
    "train['emp_length']"
   ]
  },
  {
   "cell_type": "code",
   "execution_count": 37,
   "id": "ace5cafd",
   "metadata": {},
   "outputs": [],
   "source": [
    "#converting the emp_length column to have only integers\n",
    "train['emp_length'].fillna('0',inplace=True)\n",
    "train['emp_length']=train['emp_length'].str.extract('(\\d+)')\n",
    "train['emp_length'] = train['emp_length'].astype(int)\n",
    "\n",
    "test['emp_length'].fillna('0',inplace=True)\n",
    "test['emp_length']=test['emp_length'].str.extract('(\\d+)')\n",
    "test['emp_length'] = test['emp_length'].astype(int)"
   ]
  },
  {
   "cell_type": "code",
   "execution_count": 38,
   "id": "77add171",
   "metadata": {},
   "outputs": [],
   "source": [
    "#replacing the nan values with the mean of the particular column\n",
    "train['revol_util'] = train['revol_util'].fillna(train['revol_util'].mean())\n",
    "test['revol_util'] = test['revol_util'].fillna(test['revol_util'].mean())"
   ]
  },
  {
   "cell_type": "code",
   "execution_count": 39,
   "id": "94204df7",
   "metadata": {},
   "outputs": [],
   "source": [
    "#dropping some more unnecessary features on the way\n",
    "train.drop(['total_pymnt','total_pymnt_inv','total_rec_prncp','total_rec_int',\n",
    "        'total_rec_late_fee','recoveries','pub_rec_bankruptcies'],inplace=True,axis=1)\n",
    "\n",
    "test.drop(['total_pymnt','total_pymnt_inv','total_rec_prncp','total_rec_int',\n",
    "        'total_rec_late_fee','recoveries','pub_rec_bankruptcies'],inplace=True,axis=1)"
   ]
  },
  {
   "cell_type": "code",
   "execution_count": 40,
   "id": "a1e206e2",
   "metadata": {},
   "outputs": [
    {
     "data": {
      "text/plain": [
       "Fully Paid     83.461569\n",
       "Charged Off    13.741284\n",
       "Current         2.797147\n",
       "Name: loan_status, dtype: float64"
      ]
     },
     "execution_count": 40,
     "metadata": {},
     "output_type": "execute_result"
    }
   ],
   "source": [
    "#loan_status in comparison\n",
    "(train['loan_status'].value_counts()*100)/len(train)"
   ]
  },
  {
   "cell_type": "code",
   "execution_count": 41,
   "id": "dd3f6c0a",
   "metadata": {},
   "outputs": [
    {
     "data": {
      "text/plain": [
       "698"
      ]
     },
     "execution_count": 41,
     "metadata": {},
     "output_type": "execute_result"
    }
   ],
   "source": [
    "# number of 'current' loan_status which are not relevent to us for this problem\n",
    "(train['loan_status'] == 'Current').sum()"
   ]
  },
  {
   "cell_type": "code",
   "execution_count": 42,
   "id": "0df4a625",
   "metadata": {},
   "outputs": [],
   "source": [
    "#dropping the 'current' loan_status\n",
    "train = train.drop(train[train['loan_status'] == 'Current'].index)"
   ]
  },
  {
   "cell_type": "code",
   "execution_count": 43,
   "id": "987cc0ff",
   "metadata": {},
   "outputs": [],
   "source": [
    "train['loan_status'] = train['loan_status'].map({'Fully Paid':'+1','Charged Off':'-1'})"
   ]
  },
  {
   "cell_type": "code",
   "execution_count": 44,
   "id": "dd4fde02",
   "metadata": {},
   "outputs": [
    {
     "data": {
      "text/plain": [
       "+1    85.863292\n",
       "-1    14.136708\n",
       "Name: loan_status, dtype: float64"
      ]
     },
     "execution_count": 44,
     "metadata": {},
     "output_type": "execute_result"
    }
   ],
   "source": [
    "#loan_status in comparison\n",
    "(train['loan_status'].value_counts()*100)/len(train)"
   ]
  },
  {
   "cell_type": "code",
   "execution_count": 45,
   "id": "0ce26c14",
   "metadata": {},
   "outputs": [
    {
     "data": {
      "text/plain": [
       "+1    85.078608\n",
       "-1    14.921392\n",
       "Name: loan_status, dtype: float64"
      ]
     },
     "execution_count": 45,
     "metadata": {},
     "output_type": "execute_result"
    }
   ],
   "source": [
    "#dropping the 'current' loan_status\n",
    "test = test.drop(test[test['loan_status'] == 'Current'].index)\n",
    "test['loan_status'] = test['loan_status'].map({'Fully Paid':'+1','Charged Off':'-1'})\n",
    "#loan_status in comparison\n",
    "(test['loan_status'].value_counts()*100)/len(test)"
   ]
  },
  {
   "cell_type": "code",
   "execution_count": 46,
   "id": "cb77023c",
   "metadata": {},
   "outputs": [],
   "source": [
    "#features with only 0's \n",
    "train.drop(['out_prncp','out_prncp_inv'],axis=1,inplace=True)\n",
    "test.drop(['out_prncp','out_prncp_inv'],axis=1,inplace=True)"
   ]
  },
  {
   "cell_type": "code",
   "execution_count": 47,
   "id": "1bb9b4e1",
   "metadata": {},
   "outputs": [
    {
     "data": {
      "text/plain": [
       "(24256, 46)"
      ]
     },
     "execution_count": 47,
     "metadata": {},
     "output_type": "execute_result"
    }
   ],
   "source": [
    "train.shape"
   ]
  },
  {
   "cell_type": "code",
   "execution_count": 48,
   "id": "aa5abd99",
   "metadata": {},
   "outputs": [
    {
     "data": {
      "text/plain": [
       "(14248, 46)"
      ]
     },
     "execution_count": 48,
     "metadata": {},
     "output_type": "execute_result"
    }
   ],
   "source": [
    "test.shape"
   ]
  },
  {
   "cell_type": "code",
   "execution_count": 49,
   "id": "7e6b6fb5",
   "metadata": {},
   "outputs": [],
   "source": [
    "# At the end we successfully shrinked our data down to 46 features for both train and test dataset"
   ]
  },
  {
   "cell_type": "markdown",
   "id": "b4b87450",
   "metadata": {},
   "source": [
    "# 5. (b) Training the model and making predictions"
   ]
  },
  {
   "cell_type": "code",
   "execution_count": 50,
   "id": "711ae9ba",
   "metadata": {},
   "outputs": [],
   "source": [
    "#making the train and test splits\n",
    "X_train = train.drop('loan_status', axis=1)\n",
    "X_test = test.drop('loan_status', axis=1)\n",
    "y_train = train['loan_status']\n",
    "y_test = test['loan_status']"
   ]
  },
  {
   "cell_type": "markdown",
   "id": "1e909beb",
   "metadata": {},
   "source": [
    "### Reporting best accuracy, optimal hyperparameters, precision and recall of the models"
   ]
  },
  {
   "cell_type": "code",
   "execution_count": 51,
   "id": "c25c5e16",
   "metadata": {},
   "outputs": [],
   "source": [
    "#Applied a grid search crossvalidation to find the optimal parameters to get the best acccuracy"
   ]
  },
  {
   "cell_type": "code",
   "execution_count": 52,
   "id": "c7b7aee7",
   "metadata": {},
   "outputs": [],
   "source": [
    "#Please don't try to run this cell as it takes hours to complete\n",
    "\n",
    "\n",
    "# from sklearn.model_selection import GridSearchCV\n",
    "# gradient_model = GradientBoostingClassifier()\n",
    "\n",
    "# n_estimators = [10,50,100,200,300]\n",
    "# max_features = [5,6,7,8,9,10]\n",
    "# max_depth = [None,5,10,15,20]\n",
    "\n",
    "# param_grid = {'n_estimators': n_estimators,'max_features': max_features,'max_depth': max_depth}\n",
    "# grid_model = GridSearchCV(estimator = gradient_model, param_grid = param_grid, verbose = 2)\n",
    "# grid_model.fit(X_train,y_train)\n"
   ]
  },
  {
   "cell_type": "markdown",
   "id": "29a15ab9",
   "metadata": {},
   "source": [
    "### Model 1 (n_estimators=50,max_features=5,max_depth=5)"
   ]
  },
  {
   "cell_type": "code",
   "execution_count": 53,
   "id": "11614c21",
   "metadata": {},
   "outputs": [
    {
     "name": "stdout",
     "output_type": "stream",
     "text": [
      "Accuracy Score:  92.96041549691185\n",
      "Time Taken: 1.566 secs\n",
      "\n",
      "\n",
      "Classification Report\n",
      "\n",
      "\n",
      "              precision    recall  f1-score   support\n",
      "\n",
      "          +1       0.93      0.99      0.96     12122\n",
      "          -1       0.93      0.57      0.71      2126\n",
      "\n",
      "    accuracy                           0.93     14248\n",
      "   macro avg       0.93      0.78      0.83     14248\n",
      "weighted avg       0.93      0.93      0.92     14248\n",
      "\n"
     ]
    }
   ],
   "source": [
    "start_time = time.time()\n",
    "\n",
    "model1 = GradientBoostingClassifier(n_estimators=50,max_features=5,max_depth=5)\n",
    "model1.fit(X_train, y_train)\n",
    "pred = model1.predict(X_test)\n",
    "print('Accuracy Score: ',accuracy_score(y_test, pred)*100)\n",
    "\n",
    "end_time=time.time()\n",
    "print(\"Time Taken: {} secs\".format(round(end_time-start_time,3)))\n",
    "print('\\n')\n",
    "# Checking classification_report\n",
    "print('Classification Report')\n",
    "print('\\n')\n",
    "print(classification_report(y_test, pred))"
   ]
  },
  {
   "cell_type": "markdown",
   "id": "9c44affb",
   "metadata": {},
   "source": [
    "### Model 2 (n_estimators=100,max_features=5,max_depth=5)"
   ]
  },
  {
   "cell_type": "code",
   "execution_count": 54,
   "id": "0a20dc3a",
   "metadata": {},
   "outputs": [
    {
     "name": "stdout",
     "output_type": "stream",
     "text": [
      "Accuracy Score:  95.12914093206064\n",
      "Time Taken: 2.937 secs\n",
      "\n",
      "\n",
      "Classification Report\n",
      "\n",
      "\n",
      "              precision    recall  f1-score   support\n",
      "\n",
      "          +1       0.96      0.99      0.97     12122\n",
      "          -1       0.92      0.74      0.82      2126\n",
      "\n",
      "    accuracy                           0.95     14248\n",
      "   macro avg       0.94      0.86      0.90     14248\n",
      "weighted avg       0.95      0.95      0.95     14248\n",
      "\n"
     ]
    }
   ],
   "source": [
    "start_time = time.time()\n",
    "\n",
    "model2 = GradientBoostingClassifier(n_estimators=100,max_features=5,max_depth=5)\n",
    "model2.fit(X_train, y_train)\n",
    "pred = model2.predict(X_test)\n",
    "print('Accuracy Score: ',accuracy_score(y_test, pred)*100)\n",
    "\n",
    "end_time=time.time()\n",
    "print(\"Time Taken: {} secs\".format(round(end_time-start_time,3)))\n",
    "print('\\n')\n",
    "# Checking classification_report\n",
    "print('Classification Report')\n",
    "print('\\n')\n",
    "print(classification_report(y_test, pred))"
   ]
  },
  {
   "cell_type": "markdown",
   "id": "f574f621",
   "metadata": {},
   "source": [
    "### Model 3 (n_estimators=150,max_features=5,max_depth=5)"
   ]
  },
  {
   "cell_type": "code",
   "execution_count": 55,
   "id": "0ca34fed",
   "metadata": {},
   "outputs": [
    {
     "name": "stdout",
     "output_type": "stream",
     "text": [
      "Accuracy Score:  95.66956765861875\n",
      "Time Taken: 4.492 secs\n",
      "\n",
      "\n",
      "Classification Report\n",
      "\n",
      "\n",
      "              precision    recall  f1-score   support\n",
      "\n",
      "          +1       0.96      0.99      0.97     12122\n",
      "          -1       0.91      0.79      0.85      2126\n",
      "\n",
      "    accuracy                           0.96     14248\n",
      "   macro avg       0.93      0.89      0.91     14248\n",
      "weighted avg       0.96      0.96      0.96     14248\n",
      "\n"
     ]
    }
   ],
   "source": [
    "start_time = time.time()\n",
    "\n",
    "model3 = GradientBoostingClassifier(n_estimators=150,max_features=5,max_depth=5)\n",
    "model3.fit(X_train, y_train)\n",
    "pred = model3.predict(X_test)\n",
    "print('Accuracy Score: ',accuracy_score(y_test, pred)*100)\n",
    "\n",
    "end_time=time.time()\n",
    "print(\"Time Taken: {} secs\".format(round(end_time-start_time,3)))\n",
    "print('\\n')\n",
    "# Checking classification_report\n",
    "print('Classification Report')\n",
    "print('\\n')\n",
    "print(classification_report(y_test, pred))"
   ]
  },
  {
   "cell_type": "markdown",
   "id": "23de8ef0",
   "metadata": {},
   "source": [
    "### Final Model (n_estimators=500,max_features=8,max_depth=10)"
   ]
  },
  {
   "cell_type": "markdown",
   "id": "bd714403",
   "metadata": {},
   "source": [
    "#### n_estimators = 500, max_features = 8, max_depth = 10 leads to the best accuracy"
   ]
  },
  {
   "cell_type": "code",
   "execution_count": 56,
   "id": "f01d9373",
   "metadata": {},
   "outputs": [
    {
     "name": "stdout",
     "output_type": "stream",
     "text": [
      "Accuracy Score:  96.80656934306569\n",
      "Time Taken: 54.273 secs\n"
     ]
    }
   ],
   "source": [
    "start_time = time.time()\n",
    "\n",
    "final_model = GradientBoostingClassifier(n_estimators=500,max_features=8,max_depth=10)\n",
    "final_model.fit(X_train, y_train)\n",
    "pred = final_model.predict(X_test)\n",
    "print('Accuracy Score: ',accuracy_score(y_test, pred)*100)\n",
    "\n",
    "end_time=time.time()\n",
    "print(\"Time Taken: {} secs\".format(round(end_time-start_time,3)))"
   ]
  },
  {
   "cell_type": "markdown",
   "id": "c46eb199",
   "metadata": {},
   "source": [
    "#### Best test accuracy achieved is ≈ 97%"
   ]
  },
  {
   "cell_type": "code",
   "execution_count": 57,
   "id": "7b2f5030",
   "metadata": {},
   "outputs": [
    {
     "name": "stdout",
     "output_type": "stream",
     "text": [
      "Classification Report\n",
      "\n",
      "\n",
      "              precision    recall  f1-score   support\n",
      "\n",
      "          +1       0.97      0.99      0.98     12122\n",
      "          -1       0.93      0.85      0.89      2126\n",
      "\n",
      "    accuracy                           0.97     14248\n",
      "   macro avg       0.95      0.92      0.93     14248\n",
      "weighted avg       0.97      0.97      0.97     14248\n",
      "\n"
     ]
    }
   ],
   "source": [
    "# Checking classification_report\n",
    "print('Classification Report')\n",
    "print('\\n')\n",
    "print(classification_report(y_test, pred))"
   ]
  },
  {
   "cell_type": "code",
   "execution_count": 58,
   "id": "ec358cee",
   "metadata": {},
   "outputs": [],
   "source": [
    "#The precision and recall for the model is listed above in the classification report"
   ]
  },
  {
   "cell_type": "code",
   "execution_count": 59,
   "id": "e35c918c",
   "metadata": {},
   "outputs": [],
   "source": [
    "#Checking for the Important features having atleast 1% corr with our class label as per our model"
   ]
  },
  {
   "cell_type": "code",
   "execution_count": 60,
   "id": "885b5361",
   "metadata": {},
   "outputs": [
    {
     "data": {
      "image/png": "[encoded data removed]",
      "text/plain": [
       "<Figure size 1000x400 with 1 Axes>"
      ]
     },
     "metadata": {
      "needs_background": "light"
     },
     "output_type": "display_data"
    }
   ],
   "source": [
    "feat_imp = pd.DataFrame(index = X_train.columns, data = final_model.feature_importances_, columns = ['Importance'])\n",
    "feat_imp = feat_imp[feat_imp['Importance'] > 0.01]\n",
    "\n",
    "plt.figure(figsize=(10,4),dpi=100)\n",
    "sns.barplot(data = feat_imp.sort_values('Importance'), x = feat_imp.sort_values('Importance').index, y = 'Importance')\n",
    "plt.xticks(rotation=90)\n",
    "plt.show()"
   ]
  },
  {
   "cell_type": "markdown",
   "id": "a68e4db8",
   "metadata": {},
   "source": [
    "### Effect of increasing the number of trees on the test error"
   ]
  },
  {
   "cell_type": "code",
   "execution_count": 61,
   "id": "bc82c7fd",
   "metadata": {},
   "outputs": [
    {
     "name": "stdout",
     "output_type": "stream",
     "text": [
      "Time Taken: 222.68\n"
     ]
    }
   ],
   "source": [
    "start_time = time.time()\n",
    "test_error=[]\n",
    "n_estimators = [50,100,150,200,250,300,400,500]\n",
    "\n",
    "for n in n_estimators:\n",
    "    gradient_model = GradientBoostingClassifier(n_estimators=n)\n",
    "    gradient_model.fit(X_train,y_train)\n",
    "    pred = gradient_model.predict(X_test)\n",
    "    test_error.append(1-accuracy_score(y_test,pred))\n",
    "\n",
    "end_time=time.time()\n",
    "print(\"Time Taken: {}\".format(round(end_time-start_time,3)))"
   ]
  },
  {
   "cell_type": "code",
   "execution_count": 62,
   "id": "3d864342",
   "metadata": {},
   "outputs": [
    {
     "data": {
      "image/png": "[encoded data removed]",
      "text/plain": [
       "<Figure size 432x288 with 1 Axes>"
      ]
     },
     "metadata": {
      "needs_background": "light"
     },
     "output_type": "display_data"
    }
   ],
   "source": [
    "plt.plot(n_estimators,test_error)\n",
    "plt.xlabel('Number of Trees')\n",
    "plt.ylabel('Error')\n",
    "plt.show()"
   ]
  },
  {
   "cell_type": "markdown",
   "id": "65a9ee62",
   "metadata": {},
   "source": [
    "### Comparing GradientBoosting Performance against a simple decision tree"
   ]
  },
  {
   "cell_type": "code",
   "execution_count": 63,
   "id": "e2caf590",
   "metadata": {},
   "outputs": [
    {
     "data": {
      "text/plain": [
       "0.9390791690061763"
      ]
     },
     "execution_count": 63,
     "metadata": {},
     "output_type": "execute_result"
    }
   ],
   "source": [
    "#simple decision tree built using information gain \n",
    "dt_model = DecisionTreeClassifier(criterion = 'entropy')\n",
    "dt_model.fit(X_train,y_train)\n",
    "pred = dt_model.predict(X_test)\n",
    "accuracy_score(pred,y_test)"
   ]
  },
  {
   "cell_type": "markdown",
   "id": "20784785",
   "metadata": {},
   "source": [
    "#### Test accuracy achieved using decision tree is ≈ 94%"
   ]
  },
  {
   "cell_type": "code",
   "execution_count": 64,
   "id": "8f8c106a",
   "metadata": {},
   "outputs": [
    {
     "name": "stdout",
     "output_type": "stream",
     "text": [
      "Classification Report\n",
      "\n",
      "\n",
      "              precision    recall  f1-score   support\n",
      "\n",
      "          +1       0.96      0.96      0.96     12122\n",
      "          -1       0.80      0.79      0.79      2126\n",
      "\n",
      "    accuracy                           0.94     14248\n",
      "   macro avg       0.88      0.88      0.88     14248\n",
      "weighted avg       0.94      0.94      0.94     14248\n",
      "\n"
     ]
    }
   ],
   "source": [
    "# Checking classification_report\n",
    "print('Classification Report')\n",
    "print('\\n')\n",
    "print(classification_report(y_test, pred))"
   ]
  },
  {
   "cell_type": "code",
   "execution_count": 65,
   "id": "c13eadfc",
   "metadata": {},
   "outputs": [],
   "source": [
    "#The precision and recall of the decision tree model is listed above in the classification report"
   ]
  }
 ],
 "metadata": {
  "kernelspec": {
   "display_name": "Python 3",
   "language": "python",
   "name": "python3"
  },
  "language_info": {
   "codemirror_mode": {
    "name": "ipython",
    "version": 3
   },
   "file_extension": ".py",
   "mimetype": "text/x-python",
   "name": "python",
   "nbconvert_exporter": "python",
   "pygments_lexer": "ipython3",
   "version": "3.8.8"
  }
 },
 "nbformat": 4,
 "nbformat_minor": 5
}
